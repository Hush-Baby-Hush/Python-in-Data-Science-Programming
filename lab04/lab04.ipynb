{
 "cells": [
  {
   "cell_type": "markdown",
   "metadata": {},
   "source": [
    "# Lab 04: NumPy\n",
    "\n",
    "In this lab, you will practice:\n",
    "\n",
    "- Working with NumPy arrays\n",
    "- \"Translate\" loop operations to NumPy vectorization methods\n",
    "- Practice with NumPy number generator\n",
    "- Practice with errors and exception handling\n",
    "\n",
    "**Deadline: 11:59 PM Tuesday 09/21/2021**\n",
    "\n",
    "***"
   ]
  },
  {
   "cell_type": "markdown",
   "metadata": {},
   "source": [
    "## Exercise 1 (3 points)\n",
    "\n",
    "You are given the following code segment:\n",
    "\n",
    "- `random` library provides pseudorandom number generator functions (much like `numpy.random` submodule).\n",
    "- To do this exercise, you do NOT need to know the `random` library or what the `random.randint()` function does."
   ]
  },
  {
   "cell_type": "code",
   "execution_count": 1,
   "metadata": {},
   "outputs": [
    {
     "name": "stdout",
     "output_type": "stream",
     "text": [
      "[35, 85, 18, 4, 20, 28, 59, 41, 99, 40, 25, 10, 25, 73, 52, 53, 19, 28, 9, 94]\n"
     ]
    },
    {
     "data": {
      "text/plain": [
       "[-1, -1, 1, 0, -1, 0, 0, 0, 1, -1, -1, -1, -1, 0, 0, 0, 0, 0, 1, 0]"
      ]
     },
     "execution_count": 1,
     "metadata": {},
     "output_type": "execute_result"
    }
   ],
   "source": [
    "import random\n",
    "\n",
    "random.seed(430)\n",
    "a_list = [random.randint(1, 100) for i in range(20)]\n",
    "print(a_list)\n",
    "\n",
    "new_list = []\n",
    "for i in a_list:\n",
    "    if i % 3 == 0:\n",
    "        new_list.append(1)\n",
    "    elif i % 5 == 0:\n",
    "        new_list.append(-1)\n",
    "    else:\n",
    "        new_list.append(0)\n",
    "a_list = new_list\n",
    "a_list"
   ]
  },
  {
   "cell_type": "markdown",
   "metadata": {},
   "source": [
    "Write the equivalent code using NumPy Array! Note that your code should include **no loops**!\n",
    "\n",
    "Your answer will receive a grade of 0 if any type of loop is used!"
   ]
  },
  {
   "cell_type": "code",
   "execution_count": 2,
   "metadata": {},
   "outputs": [
    {
     "name": "stdout",
     "output_type": "stream",
     "text": [
      "[35, 85, 18, 4, 20, 28, 59, 41, 99, 40, 25, 10, 25, 73, 52, 53, 19, 28, 9, 94]\n"
     ]
    }
   ],
   "source": [
    "random.seed(430)\n",
    "a_list = [random.randint(1, 100) for i in range(20)]\n",
    "print(a_list)"
   ]
  },
  {
   "cell_type": "code",
   "execution_count": 18,
   "metadata": {},
   "outputs": [
    {
     "name": "stdout",
     "output_type": "stream",
     "text": [
      "[-1 -1  1  0 -1  0  0  1  1 -1 -1 -1 -1  0  0  0  0  0  1  0]\n"
     ]
    }
   ],
   "source": [
    "import numpy as np\n",
    "\n",
    "a_array = np.array(a_list)\n",
    "# add your code here\n",
    "new = np.where(a_array % 3==0, 1, a_array%5)\n",
    "new = np.where(new==0, -1, new)\n",
    "new = np.where(abs(new)!=1, 0, new)\n",
    "print(new)"
   ]
  },
  {
   "cell_type": "markdown",
   "metadata": {},
   "source": [
    "***\n",
    "\n",
    "## Exercise 2 (4 points)\n",
    "\n",
    "Use NumPy random generator to do the following tasks:\n",
    "\n",
    "- Set the seed to be **430**.\n",
    "- Randomly generate 100 numeric values from a normal distribution with mean of 5 and standard deviation of 1.5, store them in a NumPy array called `nums`.\n",
    "- Compute the proportion of the randomly generated values that are **greater than 7**, store the result in a variable called `prop`.\n",
    "\n",
    "**Note**: The use of loops is not allowed in this exercise."
   ]
  },
  {
   "cell_type": "code",
   "execution_count": 28,
   "metadata": {},
   "outputs": [],
   "source": [
    "# add your code here\n",
    "np.random.seed(430)\n",
    "nums = np.random.normal(5,1.5,100)\n",
    "prop = np.count_nonzero(nums>7)/100"
   ]
  },
  {
   "cell_type": "markdown",
   "metadata": {},
   "source": [
    "***\n",
    "\n",
    "## Exercise 3 (3 points)\n",
    "\n",
    "Write a function named `is_birthday_valid(s)` checking if `s` is a valid birthday. For example,\n",
    "- 10/10/2020 is a valid birthday.\n",
    "- 02/30/2020 is not a valid birthday.\n",
    "\n",
    "Dates are usually written as `mm/dd/yyyy` (where `mm` presents the month, `dd` represents the date, and `yyyy` represents the year). But everyone writes the date slighly differently.\n",
    "\n",
    "For example,\n",
    "\n",
    "`s = '10/10/2020'`\n",
    "\n",
    "`s = '02-30-2020'`\n",
    "\n",
    "`s = '2/ 29/ 1988'`\n",
    "\n",
    "**Notes:**\n",
    "- To check for valid birthday, take a look at [this post](https://stackoverflow.com/questions/9987818/in-python-how-to-check-if-a-date-is-valid) on StackOverflow.\n",
    "- The month, date and year order will always be the same in these test cases."
   ]
  },
  {
   "cell_type": "code",
   "execution_count": 66,
   "metadata": {},
   "outputs": [],
   "source": [
    "# add your code here\n",
    "from datetime import datetime\n",
    "import re\n",
    "def is_birthday_valid(s):\n",
    "    mdy = re.findall(r\"\\d+\\.?\\d*\",s)\n",
    "    mdy = [int(m) for m in mdy]\n",
    "    try:\n",
    "        datetime(mdy[2],mdy[0],mdy[1])\n",
    "    except ValueError:\n",
    "        return False\n",
    "    else:\n",
    "        return True\n",
    "    "
   ]
  },
  {
   "cell_type": "markdown",
   "metadata": {},
   "source": [
    "Use the following test cases to test your code (note that the test cases used for grading are **similar** to the ones listed here, but are not exactly the same):"
   ]
  },
  {
   "cell_type": "code",
   "execution_count": 67,
   "metadata": {},
   "outputs": [
    {
     "data": {
      "text/plain": [
       "True"
      ]
     },
     "execution_count": 67,
     "metadata": {},
     "output_type": "execute_result"
    }
   ],
   "source": [
    "is_birthday_valid('10/10/2020') # Expected output: True"
   ]
  },
  {
   "cell_type": "code",
   "execution_count": 68,
   "metadata": {},
   "outputs": [
    {
     "data": {
      "text/plain": [
       "False"
      ]
     },
     "execution_count": 68,
     "metadata": {},
     "output_type": "execute_result"
    }
   ],
   "source": [
    "is_birthday_valid('02-30-2020') # Expected output: False"
   ]
  },
  {
   "cell_type": "code",
   "execution_count": 69,
   "metadata": {},
   "outputs": [
    {
     "data": {
      "text/plain": [
       "True"
      ]
     },
     "execution_count": 69,
     "metadata": {},
     "output_type": "execute_result"
    }
   ],
   "source": [
    "is_birthday_valid('2/ 29/ 1988') # Expected output: True"
   ]
  },
  {
   "cell_type": "markdown",
   "metadata": {},
   "source": [
    "***\n",
    "\n",
    "## Submit Your Work"
   ]
  },
  {
   "cell_type": "markdown",
   "metadata": {},
   "source": [
    "You're almost done -- congratulations!\n",
    "\n",
    "You need to do a few more things:\n",
    "\n",
    "1. Save your work.  To do this, create a **notebook checkpoint** by using the menu within the notebook to go **File -> Save and Checkpoint**\n",
    "\n",
    "2. Click **File** -> **Close and Halt** to close this notebook.\n",
    "\n",
    "3. Click **Logout** on Jupyter to return your terminal back to the command prompt.\n",
    "\n",
    "4. Follow the assignment instructions to submit this assignment."
   ]
  }
 ],
 "metadata": {
  "kernelspec": {
   "display_name": "Python 3",
   "language": "python",
   "name": "python3"
  },
  "language_info": {
   "codemirror_mode": {
    "name": "ipython",
    "version": 3
   },
   "file_extension": ".py",
   "mimetype": "text/x-python",
   "name": "python",
   "nbconvert_exporter": "python",
   "pygments_lexer": "ipython3",
   "version": "3.6.3"
  },
  "toc": {
   "base_numbering": 1,
   "nav_menu": {},
   "number_sections": false,
   "sideBar": true,
   "skip_h1_title": false,
   "title_cell": "Table of Contents",
   "title_sidebar": "Contents",
   "toc_cell": false,
   "toc_position": {},
   "toc_section_display": true,
   "toc_window_display": false
  }
 },
 "nbformat": 4,
 "nbformat_minor": 5
}
