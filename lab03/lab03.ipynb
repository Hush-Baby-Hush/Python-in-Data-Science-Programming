{
 "cells": [
  {
   "cell_type": "markdown",
   "metadata": {},
   "source": [
    "# Lab 03: Tuple, List & Dictionary\n",
    "\n",
    "In this lab, you will practice:\n",
    "\n",
    "- Accessing elements from tuples\n",
    "- Working with list\n",
    "- Create and use dictionary\n",
    "\n",
    "**Deadline: 11:59 PM Tuesday 09/14/2021**\n",
    "\n",
    "***"
   ]
  },
  {
   "cell_type": "markdown",
   "metadata": {},
   "source": [
    "## Exercise 1\n",
    "\n",
    "You are given a list of tuples called `two_nums`. Each tuple contains 2 numbers.\n",
    "\n",
    "Write a function named `find_tuple()` that takes `two_nums` as the input, find the tuple with the smallest difference between the 2 elements, and returns it as the function output!\n",
    "\n",
    "If multiple tuples have the same smallest difference, return a list of them."
   ]
  },
  {
   "cell_type": "code",
   "execution_count": 56,
   "metadata": {},
   "outputs": [],
   "source": [
    "def find_tuple(two_nums):\n",
    "    # add your code here\n",
    "    k = abs(two_nums[0][0]-two_nums[0][1])\n",
    "    ans = list([two_nums[0]])\n",
    "    for i in two_nums:\n",
    "        j = abs(i[0]-i[1])\n",
    "        if k>j:\n",
    "            k = j\n",
    "            ans = list([i])\n",
    "        elif k==j and i!=two_nums[0]:\n",
    "            ans.append(i)\n",
    "    if len(ans)==1:\n",
    "        return ans[0]\n",
    "    return ans\n",
    "\n",
    "\n",
    "\n",
    "# def find_tuple(two_nums):\n",
    "#     if len(two_nums) == 0:\n",
    "#         return([])\n",
    "\n",
    "#     dif = [abs(s[1] - s[0]) for s in two_nums ]\n",
    "#     value = min(dif)\n",
    "#     ret = [two_nums[i] for i,x in enumerate(dif) if x == value]\n",
    "#     if len(ret) == 1:\n",
    "#         return ret[0]\n",
    "#     return ret"
   ]
  },
  {
   "cell_type": "markdown",
   "metadata": {},
   "source": [
    "Use the following test cases to test your code (note that the test cases used for grading are **similar** to the ones listed here, but are not exactly the same):"
   ]
  },
  {
   "cell_type": "code",
   "execution_count": 57,
   "metadata": {},
   "outputs": [
    {
     "data": {
      "text/plain": [
       "(5, 4)"
      ]
     },
     "execution_count": 57,
     "metadata": {},
     "output_type": "execute_result"
    }
   ],
   "source": [
    "find_tuple([(1, 10), (3, 1), (5, 4)]) #expected output: (5, 4)"
   ]
  },
  {
   "cell_type": "code",
   "execution_count": 58,
   "metadata": {},
   "outputs": [
    {
     "data": {
      "text/plain": [
       "[(1, 1), (2, 2), (3, 3)]"
      ]
     },
     "execution_count": 58,
     "metadata": {},
     "output_type": "execute_result"
    }
   ],
   "source": [
    "find_tuple([(1, 1), (2, 2), (3, 3)]) #expected output: [(1, 1), (2, 2), (3, 3)]"
   ]
  },
  {
   "cell_type": "code",
   "execution_count": 59,
   "metadata": {},
   "outputs": [
    {
     "data": {
      "text/plain": [
       "[(1, 10), (10, 1)]"
      ]
     },
     "execution_count": 59,
     "metadata": {},
     "output_type": "execute_result"
    }
   ],
   "source": [
    "find_tuple([(1, 10), (10, 1), (14, 2)]) #expected output: [(1, 10), (10, 1)]"
   ]
  },
  {
   "cell_type": "markdown",
   "metadata": {},
   "source": [
    "***\n",
    "\n",
    "## Exercise 2\n",
    "\n",
    "Two numbers are called relatively primes if their only common divisor is 1. You are given a list of tuples called `a_list`. Each tuple contains 2 numbers. Find all the tuples that are relatively primes and store them in a list called `relative_primes`."
   ]
  },
  {
   "cell_type": "code",
   "execution_count": 60,
   "metadata": {
    "collapsed": true
   },
   "outputs": [],
   "source": [
    "# use these to test your code\n",
    "# expected result: [(12, 17), (7, 81), (5, 7)]\n",
    "a_list = [(12, 17), (12, 18), (4, 8), (7, 81), (5, 7), (2, 2)]"
   ]
  },
  {
   "cell_type": "code",
   "execution_count": 61,
   "metadata": {},
   "outputs": [
    {
     "name": "stdout",
     "output_type": "stream",
     "text": [
      "[(12, 17), (7, 81), (5, 7)]\n"
     ]
    }
   ],
   "source": [
    "# add your code here\n",
    "def prime_list(alist):\n",
    "    # add your code here\n",
    "    ans = []\n",
    "    for tup in a_list:\n",
    "        flag = 1\n",
    "        for num0 in range(tup[0]):\n",
    "            if num0!=0 and tup[1]%(num0+1)==0 and tup[0]%(num0+1)==0 :\n",
    "                flag = 0\n",
    "                break\n",
    "        if flag!=0:\n",
    "            ans.append(tup)\n",
    "    return ans\n",
    "\n",
    "relative_primes = prime_list(a_list)\n",
    "print(relative_primes)"
   ]
  },
  {
   "cell_type": "markdown",
   "metadata": {},
   "source": [
    "***\n",
    "\n",
    "## Exercise 3\n",
    "\n",
    "A code (in digit) is written down in text and given to you as string `s`. For example, `s = 'one two two five'`. Write a function named `text_to_digit()` that takes `s` as an input, translates the each word in `s` to a digit, then return the digits as a number.\n",
    "\n",
    "The digits used in the code are from 0 (zero) to 9 (nine).\n",
    "\n",
    "**Yes!** You're right, we did this problem in lab02. But this time solve this problem using dictionary!"
   ]
  },
  {
   "cell_type": "code",
   "execution_count": 62,
   "metadata": {},
   "outputs": [],
   "source": [
    "def text_to_digit(s):\n",
    "    # add your code here\n",
    "    dic = {'zero':0,\n",
    "       'one':1,\n",
    "       'two':2,\n",
    "       'three':3,\n",
    "       'four':4,\n",
    "       'five':5,\n",
    "       'six':6,\n",
    "       'seven':7,\n",
    "       'eight':8,\n",
    "       'nine':9}\n",
    "    arr = s.split()\n",
    "    ans = 0\n",
    "    for i in arr:\n",
    "        ans = ans*10+dic[i]\n",
    "    return ans"
   ]
  },
  {
   "cell_type": "markdown",
   "metadata": {},
   "source": [
    "Use the following test cases to test your code (note that the test cases used for grading are **similar** to the ones listed here, but are not exactly the same):"
   ]
  },
  {
   "cell_type": "code",
   "execution_count": 63,
   "metadata": {},
   "outputs": [
    {
     "data": {
      "text/plain": [
       "1225"
      ]
     },
     "execution_count": 63,
     "metadata": {},
     "output_type": "execute_result"
    }
   ],
   "source": [
    "text_to_digit('one two two five') #expected output: 1225"
   ]
  },
  {
   "cell_type": "code",
   "execution_count": 64,
   "metadata": {},
   "outputs": [
    {
     "data": {
      "text/plain": [
       "8056"
      ]
     },
     "execution_count": 64,
     "metadata": {},
     "output_type": "execute_result"
    }
   ],
   "source": [
    "text_to_digit('eight zero five six') #expected output: 8056"
   ]
  },
  {
   "cell_type": "code",
   "execution_count": 65,
   "metadata": {},
   "outputs": [
    {
     "data": {
      "text/plain": [
       "14"
      ]
     },
     "execution_count": 65,
     "metadata": {},
     "output_type": "execute_result"
    }
   ],
   "source": [
    "text_to_digit('one four') #expected output: 14"
   ]
  },
  {
   "cell_type": "code",
   "execution_count": 66,
   "metadata": {},
   "outputs": [
    {
     "data": {
      "text/plain": [
       "939"
      ]
     },
     "execution_count": 66,
     "metadata": {},
     "output_type": "execute_result"
    }
   ],
   "source": [
    "text_to_digit('nine three nine') #expected output: 939"
   ]
  },
  {
   "cell_type": "markdown",
   "metadata": {},
   "source": [
    "***\n",
    "\n",
    "## Submit Your Work"
   ]
  },
  {
   "cell_type": "markdown",
   "metadata": {},
   "source": [
    "You're almost done -- congratulations!\n",
    "\n",
    "You need to do a few more things:\n",
    "\n",
    "1. Save your work.  To do this, create a **notebook checkpoint** by using the menu within the notebook to go **File -> Save and Checkpoint**\n",
    "\n",
    "2. Click **File** -> **Close and Halt** to close this notebook.\n",
    "\n",
    "3. Click **Logout** on Jupyter to return your terminal back to the command prompt.\n",
    "\n",
    "4. Follow the assignment instructions to submit this assignment."
   ]
  }
 ],
 "metadata": {
  "kernelspec": {
   "display_name": "Python 3",
   "language": "python",
   "name": "python3"
  },
  "language_info": {
   "codemirror_mode": {
    "name": "ipython",
    "version": 3
   },
   "file_extension": ".py",
   "mimetype": "text/x-python",
   "name": "python",
   "nbconvert_exporter": "python",
   "pygments_lexer": "ipython3",
   "version": "3.6.3"
  },
  "toc": {
   "base_numbering": 1,
   "nav_menu": {},
   "number_sections": false,
   "sideBar": true,
   "skip_h1_title": false,
   "title_cell": "Table of Contents",
   "title_sidebar": "Contents",
   "toc_cell": false,
   "toc_position": {},
   "toc_section_display": true,
   "toc_window_display": false
  }
 },
 "nbformat": 4,
 "nbformat_minor": 2
}
