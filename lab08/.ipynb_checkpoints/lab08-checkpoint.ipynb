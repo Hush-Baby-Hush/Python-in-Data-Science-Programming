{
 "cells": [
  {
   "cell_type": "markdown",
   "metadata": {},
   "source": [
    "# Lab 08: Data Aggregation\n",
    "\n",
    "In this lab, you will:\n",
    "\n",
    "- Practice with group-by mechanics\n",
    "- Use different methods for data aggregation\n",
    "\n",
    "**Deadline: 11:59 PM Tuesday 11/02/2021**\n",
    "\n",
    "***"
   ]
  },
  {
   "cell_type": "markdown",
   "metadata": {},
   "source": [
    "In this lab, we will investigate the U.S. Small Business Administration (SBA) loan dataset. The dataset details can be found on [Kaggle](https://www.kaggle.com/mirbektoktogaraev/should-this-loan-be-approved-or-denied).\n",
    "\n",
    "- Make sure you take a close look at the list of variables!\n",
    "- You will need to download the dataset to your local computer, then use the local file to load the data to Python.\n",
    "- **DO NOT STORE THE DATA ANYWHERE INSIDE YOUR NETID FOLDER!!!**\n",
    "    - This dataset is too big for GitHub and you won't be able to push to the remote repo."
   ]
  },
  {
   "cell_type": "markdown",
   "metadata": {},
   "source": [
    "Import the data to a DataFrame named `sba_loan`."
   ]
  },
  {
   "cell_type": "code",
   "execution_count": null,
   "metadata": {
    "collapsed": true
   },
   "outputs": [],
   "source": [
    "import pandas as pd\n",
    "sba_loan = "
   ]
  },
  {
   "cell_type": "markdown",
   "metadata": {},
   "source": [
    "- Perform the necessary data transformations for the following columns:\n",
    "    - `ApprovalDate`\n",
    "    - `ApprovalFY`\n",
    "    - `NewExist`\n",
    "    - `RevLineCr`\n",
    "    - `LowDoc`\n",
    "    - `ChgOffDate`\n",
    "    - `DisbursementDate`\n",
    "    - `DisbursementGross`\n",
    "    - `BalanceGross`\n",
    "    - `MIS_Status`\n",
    "    - `ChgOffPrinGr`\n",
    "    - `GrAppv` \n",
    "    - `SBA_Appv`\n",
    "- Add the `Industry` column as in Exercise 2.2 in Lab 07.\n",
    "- You can use your answers in Lab 07 or the provided solution (which will be posted after Lab 7 deadline)."
   ]
  },
  {
   "cell_type": "code",
   "execution_count": null,
   "metadata": {
    "collapsed": true
   },
   "outputs": [],
   "source": [
    "# your code\n"
   ]
  },
  {
   "cell_type": "markdown",
   "metadata": {},
   "source": [
    "### Exercise 1\n",
    "\n",
    "- Find all rows in the `sba_loan` DataFrame with the same `Industry`, compute the median gross amount of loan approved by the bank `GrAppv`.\n",
    "- Combine the result of all the groups into a Series."
   ]
  },
  {
   "cell_type": "code",
   "execution_count": null,
   "metadata": {
    "collapsed": true
   },
   "outputs": [],
   "source": [
    "# your code\n"
   ]
  },
  {
   "cell_type": "markdown",
   "metadata": {},
   "source": [
    "### Exercise 2\n",
    "\n",
    "- Find all rows in the `sba_loan` DataFrame with the same `Industry`, compute the proportion of loans which have status as charged off (CHGOFF).\n",
    "- Combine the result of all the groups into a Series."
   ]
  },
  {
   "cell_type": "code",
   "execution_count": null,
   "metadata": {
    "collapsed": true
   },
   "outputs": [],
   "source": [
    "# your code\n"
   ]
  },
  {
   "cell_type": "markdown",
   "metadata": {},
   "source": [
    "### Exercise 3\n",
    "\n",
    "- Divide the data of `ApprovalFY` into bins: [1960, 1970), [1970, 1980), [1980, 1990), [1990, 2000), [2000, 2010), [2010, 2020).\n",
    "- Use these bins and the `LowDoc` info to divide the observations into smaller groups with matching values.\n",
    "- For each group, compute the proportion/percentage of loans that have been declared to be in default (CHGOFF in `MIS_Status`).\n",
    "- Combine the result of all the groups into a Series."
   ]
  },
  {
   "cell_type": "code",
   "execution_count": null,
   "metadata": {
    "collapsed": true
   },
   "outputs": [],
   "source": [
    "# your code\n"
   ]
  },
  {
   "cell_type": "markdown",
   "metadata": {},
   "source": [
    "- Then, filter out only the observations fall in the `LowDoc` Loan Program using hiearchical indexing."
   ]
  },
  {
   "cell_type": "code",
   "execution_count": null,
   "metadata": {
    "collapsed": true
   },
   "outputs": [],
   "source": [
    "# your code\n"
   ]
  },
  {
   "cell_type": "markdown",
   "metadata": {},
   "source": [
    "### Exercise 4\n",
    "\n",
    "- Divide the data of `ApprovalFY` into bins: [1960, 1970), [1970, 1980), [1980, 1990), [1990, 2000), [2000, 2010), [2010, 2020).\n",
    "- Use these bins and the `UrbanRural` info to divide the observations into smaller groups with matching values.\n",
    "- For each group, compute the following statistics:\n",
    "    - The number of observations in that group.\n",
    "    - The median gross amount of loan approved by the bank `GrAppv`.\n",
    "    - The median loan term in months `Term`.\n",
    "    - The percentage of loans that were fully guaranteed by the SBA (that is `GrAppv` = `SBA_Appv`).\n",
    "- Combine the result of all the groups into a DataFrame."
   ]
  },
  {
   "cell_type": "code",
   "execution_count": null,
   "metadata": {
    "collapsed": true
   },
   "outputs": [],
   "source": [
    "# your code\n"
   ]
  },
  {
   "cell_type": "markdown",
   "metadata": {},
   "source": [
    "### Exercise 5\n",
    "\n",
    "- Divide the data of `NoEmp` into bins: [0, 1), [1, 2), [2, 4), [4, 10), [10, 20), [20, 50), [50, 100), [100, 1000), [1000, 9999).\n",
    "- Use the `NewExist`, `UrbanRural` info and the above bins to divide the observations into smaller groups with matching values.\n",
    "- For each group, compute the following statistics:\n",
    "    - The number of observations in that group.\n",
    "    - The median gross amount of loan approved by the bank `GrAppv`.\n",
    "    - The median SBA's guaranteed amount of approved loan `SBA_Appv`.\n",
    "    - The median **percentage/proportion** of approved loan guaranteed by the SBA (`SBA_Appv`/`GrAppv`).\n",
    "- Combine the result of all the groups into a DataFrame."
   ]
  },
  {
   "cell_type": "code",
   "execution_count": null,
   "metadata": {
    "collapsed": true
   },
   "outputs": [],
   "source": [
    "# your code\n"
   ]
  },
  {
   "cell_type": "markdown",
   "metadata": {},
   "source": [
    "### Exercise 6 (bonus)\n",
    "\n",
    "Find the top 5 states with the best \"paid in full\" rates of SBA's loans among **Accommodation and food services**."
   ]
  },
  {
   "cell_type": "code",
   "execution_count": null,
   "metadata": {
    "collapsed": true
   },
   "outputs": [],
   "source": [
    "# your code\n"
   ]
  },
  {
   "cell_type": "markdown",
   "metadata": {},
   "source": [
    "***\n",
    "\n",
    "## Submit Your Work"
   ]
  },
  {
   "cell_type": "markdown",
   "metadata": {},
   "source": [
    "You're almost done -- congratulations!\n",
    "\n",
    "You need to do a few more things:\n",
    "\n",
    "1. Save your work.  To do this, create a **notebook checkpoint** by using the menu within the notebook to go **File -> Save and Checkpoint**\n",
    "\n",
    "2. Click **File** -> **Close and Halt** to close this notebook.\n",
    "\n",
    "3. Click **Logout** on Jupyter to return your terminal back to the command prompt.\n",
    "\n",
    "4. Follow the assignment instructions to submit this assignment."
   ]
  }
 ],
 "metadata": {
  "kernelspec": {
   "display_name": "Python 3",
   "language": "python",
   "name": "python3"
  },
  "language_info": {
   "codemirror_mode": {
    "name": "ipython",
    "version": 3
   },
   "file_extension": ".py",
   "mimetype": "text/x-python",
   "name": "python",
   "nbconvert_exporter": "python",
   "pygments_lexer": "ipython3",
   "version": "3.6.3"
  },
  "toc": {
   "base_numbering": 1,
   "nav_menu": {},
   "number_sections": false,
   "sideBar": true,
   "skip_h1_title": false,
   "title_cell": "Table of Contents",
   "title_sidebar": "Contents",
   "toc_cell": false,
   "toc_position": {},
   "toc_section_display": true,
   "toc_window_display": false
  }
 },
 "nbformat": 4,
 "nbformat_minor": 2
}
