{
 "cells": [
  {
   "cell_type": "markdown",
   "id": "c182b2d4",
   "metadata": {},
   "source": [
    "## Using bins!"
   ]
  },
  {
   "cell_type": "markdown",
   "id": "aefb2fa5",
   "metadata": {},
   "source": [
    "#### Equal-size bins: pd.qcut (pd[ ' ' ], size)"
   ]
  },
  {
   "cell_type": "code",
   "execution_count": 157,
   "id": "751395ec",
   "metadata": {},
   "outputs": [
    {
     "data": {
      "text/plain": [
       "sex  trestbps       \n",
       "0.0  (93.999, 120.0]     1\n",
       "     (120.0, 130.0]      6\n",
       "     (130.0, 140.0]      6\n",
       "     (140.0, 200.0]     12\n",
       "1.0  (93.999, 120.0]    36\n",
       "     (120.0, 130.0]     28\n",
       "     (130.0, 140.0]     23\n",
       "     (140.0, 200.0]     27\n",
       "Name: num, dtype: int64"
      ]
     },
     "execution_count": 157,
     "metadata": {},
     "output_type": "execute_result"
    }
   ],
   "source": [
    "bins = pd.qcut(cleveland['trestbps'], 4)\n",
    "sex_bps_num  = cleveland.groupby(['sex',bins])['num'].value_counts()\n",
    "sex_bps_num[:,:,1]"
   ]
  },
  {
   "cell_type": "markdown",
   "id": "fa7040c2",
   "metadata": {},
   "source": [
    "#### .reset_index() 可以把分层的弄到同一层\n",
    "#### rename()函数！！！disease_percent.rename(columns={'count': 'n', 'mean': 'disease_pct'})"
   ]
  },
  {
   "cell_type": "code",
   "execution_count": 7,
   "id": "17c0441e",
   "metadata": {},
   "outputs": [
    {
     "data": {
      "text/html": [
       "<div>\n",
       "<style scoped>\n",
       "    .dataframe tbody tr th:only-of-type {\n",
       "        vertical-align: middle;\n",
       "    }\n",
       "\n",
       "    .dataframe tbody tr th {\n",
       "        vertical-align: top;\n",
       "    }\n",
       "\n",
       "    .dataframe thead th {\n",
       "        text-align: right;\n",
       "    }\n",
       "</style>\n",
       "<table border=\"1\" class=\"dataframe\">\n",
       "  <thead>\n",
       "    <tr style=\"text-align: right;\">\n",
       "      <th></th>\n",
       "      <th>age_group</th>\n",
       "      <th>sex</th>\n",
       "      <th>restecg</th>\n",
       "      <th>n</th>\n",
       "      <th>disease_pct</th>\n",
       "    </tr>\n",
       "  </thead>\n",
       "  <tbody>\n",
       "    <tr>\n",
       "      <th>0</th>\n",
       "      <td>(0, 40]</td>\n",
       "      <td>0.0</td>\n",
       "      <td>0.0</td>\n",
       "      <td>5</td>\n",
       "      <td>0.0</td>\n",
       "    </tr>\n",
       "    <tr>\n",
       "      <th>1</th>\n",
       "      <td>(0, 40]</td>\n",
       "      <td>0.0</td>\n",
       "      <td>1.0</td>\n",
       "      <td>0</td>\n",
       "      <td>NaN</td>\n",
       "    </tr>\n",
       "    <tr>\n",
       "      <th>2</th>\n",
       "      <td>(0, 40]</td>\n",
       "      <td>0.0</td>\n",
       "      <td>2.0</td>\n",
       "      <td>0</td>\n",
       "      <td>NaN</td>\n",
       "    </tr>\n",
       "    <tr>\n",
       "      <th>3</th>\n",
       "      <td>(0, 40]</td>\n",
       "      <td>1.0</td>\n",
       "      <td>0.0</td>\n",
       "      <td>8</td>\n",
       "      <td>0.5</td>\n",
       "    </tr>\n",
       "    <tr>\n",
       "      <th>4</th>\n",
       "      <td>(0, 40]</td>\n",
       "      <td>1.0</td>\n",
       "      <td>1.0</td>\n",
       "      <td>0</td>\n",
       "      <td>NaN</td>\n",
       "    </tr>\n",
       "  </tbody>\n",
       "</table>\n",
       "</div>"
      ],
      "text/plain": [
       "  age_group  sex  restecg  n  disease_pct\n",
       "0   (0, 40]  0.0      0.0  5          0.0\n",
       "1   (0, 40]  0.0      1.0  0          NaN\n",
       "2   (0, 40]  0.0      2.0  0          NaN\n",
       "3   (0, 40]  1.0      0.0  8          0.5\n",
       "4   (0, 40]  1.0      1.0  0          NaN"
      ]
     },
     "execution_count": 7,
     "metadata": {},
     "output_type": "execute_result"
    }
   ],
   "source": [
    "import pandas as pd\n",
    "import numpy as np\n",
    "\n",
    "cleveland = pd.read_csv('processed.cleveland.data', header=None,\n",
    "                       names=['age', 'sex', 'cp', 'trestbps', 'chol', 'fbs', 'restecg',\n",
    "                              'thalach', 'exang', 'oldpeak', 'slope', 'ca', 'thal', 'num'],\n",
    "                       na_values=['?'])\n",
    "\n",
    "# def new_num(x):\n",
    "#     if x == 0:\n",
    "#         return 0\n",
    "#     else:\n",
    "#         return 1\n",
    "#     return np.nan\n",
    "\n",
    "# cleveland['num'] = cleveland['num'].apply(new_num)\n",
    "\n",
    "cleveland.loc[cleveland['num'] > 0, 'num'] = 1\n",
    "\n",
    "cleveland['age_group'] = pd.cut(cleveland['age'], [0, 40, 50, 60, 70, 100])\n",
    "disease_percent = cleveland.groupby(['age_group', 'sex', 'restecg'])['num'].agg(['count', 'mean'])\n",
    "disease_percent = disease_percent.reset_index()\n",
    "disease_percent = disease_percent.rename(columns={'count': 'n', 'mean': 'disease_pct'})\n",
    "disease_percent.head(5)"
   ]
  },
  {
   "cell_type": "code",
   "execution_count": 58,
   "id": "dec62875",
   "metadata": {},
   "outputs": [
    {
     "data": {
      "text/html": [
       "<div>\n",
       "<style scoped>\n",
       "    .dataframe tbody tr th:only-of-type {\n",
       "        vertical-align: middle;\n",
       "    }\n",
       "\n",
       "    .dataframe tbody tr th {\n",
       "        vertical-align: top;\n",
       "    }\n",
       "\n",
       "    .dataframe thead th {\n",
       "        text-align: right;\n",
       "    }\n",
       "</style>\n",
       "<table border=\"1\" class=\"dataframe\">\n",
       "  <thead>\n",
       "    <tr style=\"text-align: right;\">\n",
       "      <th>cp</th>\n",
       "      <th>1.0</th>\n",
       "      <th>2.0</th>\n",
       "      <th>3.0</th>\n",
       "      <th>4.0</th>\n",
       "    </tr>\n",
       "    <tr>\n",
       "      <th>age_group</th>\n",
       "      <th></th>\n",
       "      <th></th>\n",
       "      <th></th>\n",
       "      <th></th>\n",
       "    </tr>\n",
       "  </thead>\n",
       "  <tbody>\n",
       "    <tr>\n",
       "      <th>(0, 40]</th>\n",
       "      <td>0.333333</td>\n",
       "      <td>0.00</td>\n",
       "      <td>0.000000</td>\n",
       "      <td>0.833333</td>\n",
       "    </tr>\n",
       "    <tr>\n",
       "      <th>(40, 50]</th>\n",
       "      <td>0.500000</td>\n",
       "      <td>0.05</td>\n",
       "      <td>0.200000</td>\n",
       "      <td>0.551724</td>\n",
       "    </tr>\n",
       "    <tr>\n",
       "      <th>(50, 60]</th>\n",
       "      <td>0.300000</td>\n",
       "      <td>0.30</td>\n",
       "      <td>0.176471</td>\n",
       "      <td>0.772727</td>\n",
       "    </tr>\n",
       "    <tr>\n",
       "      <th>(60, 70]</th>\n",
       "      <td>0.250000</td>\n",
       "      <td>0.40</td>\n",
       "      <td>0.368421</td>\n",
       "      <td>0.780488</td>\n",
       "    </tr>\n",
       "    <tr>\n",
       "      <th>(70, 100]</th>\n",
       "      <td>NaN</td>\n",
       "      <td>0.00</td>\n",
       "      <td>0.000000</td>\n",
       "      <td>0.500000</td>\n",
       "    </tr>\n",
       "  </tbody>\n",
       "</table>\n",
       "</div>"
      ],
      "text/plain": [
       "cp              1.0   2.0       3.0       4.0\n",
       "age_group                                    \n",
       "(0, 40]    0.333333  0.00  0.000000  0.833333\n",
       "(40, 50]   0.500000  0.05  0.200000  0.551724\n",
       "(50, 60]   0.300000  0.30  0.176471  0.772727\n",
       "(60, 70]   0.250000  0.40  0.368421  0.780488\n",
       "(70, 100]       NaN  0.00  0.000000  0.500000"
      ]
     },
     "execution_count": 58,
     "metadata": {},
     "output_type": "execute_result"
    }
   ],
   "source": [
    "import pandas as pd\n",
    "import numpy as np\n",
    "\n",
    "cleveland = pd.read_csv('processed.cleveland.data', header=None,\n",
    "                       names=['age', 'sex', 'cp', 'trestbps', 'chol', 'fbs', 'restecg',\n",
    "                              'thalach', 'exang', 'oldpeak', 'slope', 'ca', 'thal', 'num'],\n",
    "                       na_values=['?'])\n",
    "# def new_num(x):\n",
    "#     if x == 0:\n",
    "#         return 0\n",
    "#     else:\n",
    "#         return 1\n",
    "#     return np.nan\n",
    "\n",
    "# cleveland['num'] = cleveland['num'].apply(new_num)\n",
    "\n",
    "cleveland.loc[cleveland['num'] > 0, 'num'] = 1\n",
    "\n",
    "cleveland['age_group'] = pd.cut(cleveland['age'], [0, 40, 50, 60, 70, 100])\n",
    "age_cp_percent = cleveland.groupby(['age_group', 'cp'])['num'].mean().unstack()\n",
    "age_cp_percent.head(5)"
   ]
  },
  {
   "cell_type": "code",
   "execution_count": 59,
   "id": "6d002fca",
   "metadata": {},
   "outputs": [
    {
     "data": {
      "text/plain": [
       "pandas.core.frame.DataFrame"
      ]
     },
     "execution_count": 59,
     "metadata": {},
     "output_type": "execute_result"
    }
   ],
   "source": [
    "type(age_cp_percent)"
   ]
  },
  {
   "cell_type": "markdown",
   "id": "46de660b",
   "metadata": {},
   "source": [
    "## Regular Expression"
   ]
  },
  {
   "cell_type": "code",
   "execution_count": 159,
   "id": "f576cf44",
   "metadata": {},
   "outputs": [],
   "source": [
    "import numpy as np\n",
    "import pandas as pd\n",
    "import re\n",
    "phone_numbers = pd.read_csv('phone-numbers.csv')\n",
    "phone_numbers['phone'] = phone_numbers['phone'].str.strip()\n",
    "def join_phone(x):\n",
    "    result = x[0]+x[1]+x[2]\n",
    "    if len(result)!=10:\n",
    "        return np.nan\n",
    "    return result[0:3]+'-'+result[3:6]+'-'+result[6:]\n",
    "pattern = '[-\\s()]*([0-9]+)[-\\s()]*([0-9]+)[-\\s()]*([0-9]+)'\n",
    "data = phone_numbers['phone'].str.extract(pattern, flags=re.IGNORECASE)\n",
    "phone_numbers['phone'] = data.agg(join_phone, axis=1)"
   ]
  },
  {
   "cell_type": "code",
   "execution_count": 160,
   "id": "79fa04d7",
   "metadata": {},
   "outputs": [
    {
     "data": {
      "text/html": [
       "<div>\n",
       "<style scoped>\n",
       "    .dataframe tbody tr th:only-of-type {\n",
       "        vertical-align: middle;\n",
       "    }\n",
       "\n",
       "    .dataframe tbody tr th {\n",
       "        vertical-align: top;\n",
       "    }\n",
       "\n",
       "    .dataframe thead th {\n",
       "        text-align: right;\n",
       "    }\n",
       "</style>\n",
       "<table border=\"1\" class=\"dataframe\">\n",
       "  <thead>\n",
       "    <tr style=\"text-align: right;\">\n",
       "      <th></th>\n",
       "      <th>0</th>\n",
       "      <th>1</th>\n",
       "      <th>2</th>\n",
       "    </tr>\n",
       "  </thead>\n",
       "  <tbody>\n",
       "    <tr>\n",
       "      <th>0</th>\n",
       "      <td>123</td>\n",
       "      <td>432</td>\n",
       "      <td>3843</td>\n",
       "    </tr>\n",
       "    <tr>\n",
       "      <th>1</th>\n",
       "      <td>124</td>\n",
       "      <td>143</td>\n",
       "      <td>1590</td>\n",
       "    </tr>\n",
       "    <tr>\n",
       "      <th>2</th>\n",
       "      <td>14297910</td>\n",
       "      <td>1</td>\n",
       "      <td>9</td>\n",
       "    </tr>\n",
       "    <tr>\n",
       "      <th>3</th>\n",
       "      <td>984</td>\n",
       "      <td>457</td>\n",
       "      <td>1128</td>\n",
       "    </tr>\n",
       "    <tr>\n",
       "      <th>4</th>\n",
       "      <td>439</td>\n",
       "      <td>58</td>\n",
       "      <td>2840</td>\n",
       "    </tr>\n",
       "    <tr>\n",
       "      <th>5</th>\n",
       "      <td>431</td>\n",
       "      <td>408</td>\n",
       "      <td>5831</td>\n",
       "    </tr>\n",
       "    <tr>\n",
       "      <th>6</th>\n",
       "      <td>532</td>\n",
       "      <td>583</td>\n",
       "      <td>5841</td>\n",
       "    </tr>\n",
       "    <tr>\n",
       "      <th>7</th>\n",
       "      <td>540</td>\n",
       "      <td>484</td>\n",
       "      <td>2553</td>\n",
       "    </tr>\n",
       "    <tr>\n",
       "      <th>8</th>\n",
       "      <td>549</td>\n",
       "      <td>483</td>\n",
       "      <td>2</td>\n",
       "    </tr>\n",
       "    <tr>\n",
       "      <th>9</th>\n",
       "      <td>119</td>\n",
       "      <td>583</td>\n",
       "      <td>42302</td>\n",
       "    </tr>\n",
       "    <tr>\n",
       "      <th>10</th>\n",
       "      <td>584</td>\n",
       "      <td>442</td>\n",
       "      <td>5522</td>\n",
       "    </tr>\n",
       "    <tr>\n",
       "      <th>11</th>\n",
       "      <td>45348745</td>\n",
       "      <td>8</td>\n",
       "      <td>4</td>\n",
       "    </tr>\n",
       "    <tr>\n",
       "      <th>12</th>\n",
       "      <td>542</td>\n",
       "      <td>585445</td>\n",
       "      <td>8</td>\n",
       "    </tr>\n",
       "    <tr>\n",
       "      <th>13</th>\n",
       "      <td>415</td>\n",
       "      <td>558</td>\n",
       "      <td>4224</td>\n",
       "    </tr>\n",
       "  </tbody>\n",
       "</table>\n",
       "</div>"
      ],
      "text/plain": [
       "           0       1      2\n",
       "0        123     432   3843\n",
       "1        124     143   1590\n",
       "2   14297910       1      9\n",
       "3        984     457   1128\n",
       "4        439      58   2840\n",
       "5        431     408   5831\n",
       "6        532     583   5841\n",
       "7        540     484   2553\n",
       "8        549     483      2\n",
       "9        119     583  42302\n",
       "10       584     442   5522\n",
       "11  45348745       8      4\n",
       "12       542  585445      8\n",
       "13       415     558   4224"
      ]
     },
     "execution_count": 160,
     "metadata": {},
     "output_type": "execute_result"
    }
   ],
   "source": [
    "data"
   ]
  },
  {
   "cell_type": "markdown",
   "id": "b8733d2c",
   "metadata": {},
   "source": [
    "#### use index to slice rows:  ramen.loc[indexs, : ]"
   ]
  },
  {
   "cell_type": "markdown",
   "id": "a713bda2",
   "metadata": {},
   "source": [
    "#### Sort: .sort_values(\"column\")"
   ]
  },
  {
   "cell_type": "code",
   "execution_count": 161,
   "id": "e03c2e41",
   "metadata": {},
   "outputs": [],
   "source": [
    "import pandas as pd\n",
    "import numpy as np\n",
    "import re\n",
    "ramen = pd.read_csv('ramen-ratings.csv',dtype = {'Stars': 'float64'}, na_values = {'Unrated'})\n",
    "ramen = ramen.drop('Review #', axis=1)\n",
    "ramen.loc[(ramen['Country'] == 'United States'), 'Country'] = 'USA'\n",
    "\n",
    "pattern = '(2016 #[0-9]*)'\n",
    "data = ramen['Top Ten'].str.extract(pattern, flags=re.IGNORECASE).dropna()\n",
    "indexs = data.index\n",
    "rank_2016 = ramen.loc[indexs, : ].sort_values(\"Top Ten\")"
   ]
  },
  {
   "cell_type": "markdown",
   "id": "8426afdb",
   "metadata": {},
   "source": [
    "#### String可以直接被index: string[0:2]"
   ]
  },
  {
   "cell_type": "code",
   "execution_count": 162,
   "id": "dc431ce4",
   "metadata": {},
   "outputs": [],
   "source": [
    "import datetime\n",
    "import pandas as pd\n",
    "import numpy as np\n",
    "import re\n",
    "birthdays = pd.read_csv('birthdays.csv')\n",
    "birthdays['birthday'] = birthdays['birthday'].str.strip()\n",
    "\n",
    "\n",
    "def datecheck(x):\n",
    "    if pd.isna(x[0]):\n",
    "        return np.nan\n",
    "    if x[0][0]=='0':\n",
    "        x[0] = x[0][1]\n",
    "    if x[1][0]=='0':\n",
    "        x[1] = x[1][1]\n",
    "    try:\n",
    "        datetime.datetime(year=int(x[2]),month=int(x[0]) ,day=int(x[1]))\n",
    "    except:\n",
    "        return np.nan\n",
    "    if len(x[0])==1:\n",
    "        x[0] = '0'+x[0]\n",
    "    if len(x[1])==1:\n",
    "        x[1] = '0'+x[1]      \n",
    "    return x[0]+'/'+x[1]+'/'+x[2]\n",
    "\n",
    "\n",
    "pattern = '([0-9]+)[-\\s/]*([0-9]+)[-\\s/]*([0-9]+)'\n",
    "data = birthdays['birthday'].str.extract(pattern, flags=re.IGNORECASE)\n",
    "birthdays['birthday'] = data.agg(datecheck, axis=1)"
   ]
  },
  {
   "cell_type": "markdown",
   "id": "7c691fd2",
   "metadata": {},
   "source": [
    "## Data Cleaning"
   ]
  },
  {
   "cell_type": "code",
   "execution_count": 16,
   "id": "4ec62804",
   "metadata": {},
   "outputs": [],
   "source": [
    "import pandas as pd\n",
    "import numpy as np\n",
    "\n",
    "ramen = pd.read_csv('ramen-ratings.csv',\n",
    "                    dtype = {'Stars': 'float64'}, \n",
    "                    na_values = {'Unrated'})\n",
    "ramen = ramen.drop('Review #', axis=1)\n",
    "ramen.loc[(ramen['Country'] == 'United States'), 'Country'] = 'USA'\n",
    "# ramen.loc[(ramen.Country.isin(['United States','USA']) ), 'Country'] = 'US'"
   ]
  },
  {
   "cell_type": "code",
   "execution_count": 17,
   "id": "75ef704c",
   "metadata": {},
   "outputs": [],
   "source": [
    "import pandas as pd\n",
    "cleveland = pd.read_csv('processed.cleveland.data',\n",
    "                        dtype = {11: 'float64', 12: 'float64'}, \n",
    "                        na_values = {'?'}, \n",
    "                        names=['age', 'sex', 'cp', 'trestbps', 'chol', 'fbs', 'restecg', 'thalach', \n",
    "                               'exang', 'oldpeak', 'slope', 'ca', 'thal', 'num'])"
   ]
  },
  {
   "cell_type": "code",
   "execution_count": 50,
   "id": "eae4f0ba",
   "metadata": {},
   "outputs": [],
   "source": [
    "hungarian = pd.read_csv('processed.hungarian.data',dtype = {11: 'float64', 12: 'float64'}, na_values = {'?'}, names=['age', 'sex', 'cp', 'trestbps', 'chol', 'fbs', 'restecg', 'thalach', 'exang', 'oldpeak', 'slope', 'ca', 'thal', 'num'])\n",
    "switzerland = pd.read_csv('processed.switzerland.data',dtype = {11: 'float64', 12: 'float64'}, na_values = {'?'}, names=['age', 'sex', 'cp', 'trestbps', 'chol', 'fbs', 'restecg', 'thalach', 'exang', 'oldpeak', 'slope', 'ca', 'thal', 'num'])\n",
    "va = pd.read_csv('processed.va.data',dtype = {11: 'float64', 12: 'float64'}, na_values = {'?'}, names=['age', 'sex', 'cp', 'trestbps', 'chol', 'fbs', 'restecg', 'thalach', 'exang', 'oldpeak', 'slope', 'ca', 'thal', 'num'])"
   ]
  },
  {
   "cell_type": "markdown",
   "id": "56e87fa8",
   "metadata": {},
   "source": [
    "#### Deal with missing value: pd. isnull (element)"
   ]
  },
  {
   "cell_type": "markdown",
   "id": "cba79ae6",
   "metadata": {},
   "source": [
    "#### Use mean value to replace missing value"
   ]
  },
  {
   "cell_type": "code",
   "execution_count": 37,
   "id": "cb72abdd",
   "metadata": {},
   "outputs": [],
   "source": [
    "def f(x):\n",
    "    if pd.isnull(x['Stars']):\n",
    "        mean_ = ramen[((ramen['Brand'] == x['Brand']) & (ramen['Country'] == x['Country']))]['Stars'].mean()\n",
    "        x.loc['Stars'] = mean_\n",
    "    return x\n",
    "\n",
    "ramen = ramen.apply(f, axis = 1)"
   ]
  },
  {
   "cell_type": "markdown",
   "id": "877b78e6",
   "metadata": {},
   "source": [
    "#### Find all row with at least one missing value\n",
    "#### pd.isnull() returns 判断每一个element是不是null"
   ]
  },
  {
   "cell_type": "code",
   "execution_count": 31,
   "id": "30f74810",
   "metadata": {},
   "outputs": [
    {
     "data": {
      "text/html": [
       "<div>\n",
       "<style scoped>\n",
       "    .dataframe tbody tr th:only-of-type {\n",
       "        vertical-align: middle;\n",
       "    }\n",
       "\n",
       "    .dataframe tbody tr th {\n",
       "        vertical-align: top;\n",
       "    }\n",
       "\n",
       "    .dataframe thead th {\n",
       "        text-align: right;\n",
       "    }\n",
       "</style>\n",
       "<table border=\"1\" class=\"dataframe\">\n",
       "  <thead>\n",
       "    <tr style=\"text-align: right;\">\n",
       "      <th></th>\n",
       "      <th>age</th>\n",
       "      <th>sex</th>\n",
       "      <th>cp</th>\n",
       "      <th>trestbps</th>\n",
       "      <th>chol</th>\n",
       "      <th>fbs</th>\n",
       "      <th>restecg</th>\n",
       "      <th>thalach</th>\n",
       "      <th>exang</th>\n",
       "      <th>oldpeak</th>\n",
       "      <th>slope</th>\n",
       "      <th>ca</th>\n",
       "      <th>thal</th>\n",
       "      <th>num</th>\n",
       "    </tr>\n",
       "  </thead>\n",
       "  <tbody>\n",
       "    <tr>\n",
       "      <th>87</th>\n",
       "      <td>53.0</td>\n",
       "      <td>0.0</td>\n",
       "      <td>3.0</td>\n",
       "      <td>128.0</td>\n",
       "      <td>216.0</td>\n",
       "      <td>0.0</td>\n",
       "      <td>2.0</td>\n",
       "      <td>115.0</td>\n",
       "      <td>0.0</td>\n",
       "      <td>0.0</td>\n",
       "      <td>1.0</td>\n",
       "      <td>0.0</td>\n",
       "      <td>NaN</td>\n",
       "      <td>0</td>\n",
       "    </tr>\n",
       "    <tr>\n",
       "      <th>166</th>\n",
       "      <td>52.0</td>\n",
       "      <td>1.0</td>\n",
       "      <td>3.0</td>\n",
       "      <td>138.0</td>\n",
       "      <td>223.0</td>\n",
       "      <td>0.0</td>\n",
       "      <td>0.0</td>\n",
       "      <td>169.0</td>\n",
       "      <td>0.0</td>\n",
       "      <td>0.0</td>\n",
       "      <td>1.0</td>\n",
       "      <td>NaN</td>\n",
       "      <td>3.0</td>\n",
       "      <td>0</td>\n",
       "    </tr>\n",
       "    <tr>\n",
       "      <th>192</th>\n",
       "      <td>43.0</td>\n",
       "      <td>1.0</td>\n",
       "      <td>4.0</td>\n",
       "      <td>132.0</td>\n",
       "      <td>247.0</td>\n",
       "      <td>1.0</td>\n",
       "      <td>2.0</td>\n",
       "      <td>143.0</td>\n",
       "      <td>1.0</td>\n",
       "      <td>0.1</td>\n",
       "      <td>2.0</td>\n",
       "      <td>NaN</td>\n",
       "      <td>7.0</td>\n",
       "      <td>1</td>\n",
       "    </tr>\n",
       "    <tr>\n",
       "      <th>266</th>\n",
       "      <td>52.0</td>\n",
       "      <td>1.0</td>\n",
       "      <td>4.0</td>\n",
       "      <td>128.0</td>\n",
       "      <td>204.0</td>\n",
       "      <td>1.0</td>\n",
       "      <td>0.0</td>\n",
       "      <td>156.0</td>\n",
       "      <td>1.0</td>\n",
       "      <td>1.0</td>\n",
       "      <td>2.0</td>\n",
       "      <td>0.0</td>\n",
       "      <td>NaN</td>\n",
       "      <td>2</td>\n",
       "    </tr>\n",
       "    <tr>\n",
       "      <th>287</th>\n",
       "      <td>58.0</td>\n",
       "      <td>1.0</td>\n",
       "      <td>2.0</td>\n",
       "      <td>125.0</td>\n",
       "      <td>220.0</td>\n",
       "      <td>0.0</td>\n",
       "      <td>0.0</td>\n",
       "      <td>144.0</td>\n",
       "      <td>0.0</td>\n",
       "      <td>0.4</td>\n",
       "      <td>2.0</td>\n",
       "      <td>NaN</td>\n",
       "      <td>7.0</td>\n",
       "      <td>0</td>\n",
       "    </tr>\n",
       "    <tr>\n",
       "      <th>302</th>\n",
       "      <td>38.0</td>\n",
       "      <td>1.0</td>\n",
       "      <td>3.0</td>\n",
       "      <td>138.0</td>\n",
       "      <td>175.0</td>\n",
       "      <td>0.0</td>\n",
       "      <td>0.0</td>\n",
       "      <td>173.0</td>\n",
       "      <td>0.0</td>\n",
       "      <td>0.0</td>\n",
       "      <td>1.0</td>\n",
       "      <td>NaN</td>\n",
       "      <td>3.0</td>\n",
       "      <td>0</td>\n",
       "    </tr>\n",
       "  </tbody>\n",
       "</table>\n",
       "</div>"
      ],
      "text/plain": [
       "      age  sex   cp  trestbps   chol  fbs  restecg  thalach  exang  oldpeak  \\\n",
       "87   53.0  0.0  3.0     128.0  216.0  0.0      2.0    115.0    0.0      0.0   \n",
       "166  52.0  1.0  3.0     138.0  223.0  0.0      0.0    169.0    0.0      0.0   \n",
       "192  43.0  1.0  4.0     132.0  247.0  1.0      2.0    143.0    1.0      0.1   \n",
       "266  52.0  1.0  4.0     128.0  204.0  1.0      0.0    156.0    1.0      1.0   \n",
       "287  58.0  1.0  2.0     125.0  220.0  0.0      0.0    144.0    0.0      0.4   \n",
       "302  38.0  1.0  3.0     138.0  175.0  0.0      0.0    173.0    0.0      0.0   \n",
       "\n",
       "     slope   ca  thal  num  \n",
       "87     1.0  0.0   NaN    0  \n",
       "166    1.0  NaN   3.0    0  \n",
       "192    2.0  NaN   7.0    1  \n",
       "266    2.0  0.0   NaN    2  \n",
       "287    2.0  NaN   7.0    0  \n",
       "302    1.0  NaN   3.0    0  "
      ]
     },
     "execution_count": 31,
     "metadata": {},
     "output_type": "execute_result"
    }
   ],
   "source": [
    "missing_data = cleveland[cleveland.isnull().any(axis=1)]\n",
    "missing_data"
   ]
  },
  {
   "cell_type": "code",
   "execution_count": 30,
   "id": "4e1f8ac5",
   "metadata": {},
   "outputs": [
    {
     "data": {
      "text/plain": [
       "age         False\n",
       "sex         False\n",
       "cp          False\n",
       "trestbps    False\n",
       "chol        False\n",
       "fbs         False\n",
       "restecg     False\n",
       "thalach     False\n",
       "exang       False\n",
       "oldpeak     False\n",
       "slope       False\n",
       "ca           True\n",
       "thal         True\n",
       "num         False\n",
       "dtype: bool"
      ]
     },
     "execution_count": 30,
     "metadata": {},
     "output_type": "execute_result"
    }
   ],
   "source": [
    "# 判断column\n",
    "missing_data = cleveland.isnull().any(axis=0)\n",
    "missing_data"
   ]
  },
  {
   "cell_type": "markdown",
   "id": "52821257",
   "metadata": {},
   "source": [
    "#### use mode to fill missing value"
   ]
  },
  {
   "cell_type": "code",
   "execution_count": 41,
   "id": "260d02d3",
   "metadata": {},
   "outputs": [],
   "source": [
    "def f(x):\n",
    "    if pd.isnull(x['ca']):\n",
    "        mode = cleveland[((cleveland['sex'] == x['sex']) & (cleveland['num'] == x['num']))]['ca'].mode()\n",
    "        x.loc['ca'] = mode[0]\n",
    "    if pd.isnull(x['thal']):\n",
    "        mode2 = cleveland[((cleveland['sex'] == x['sex']) & (cleveland['num'] == x['num']))]['thal'].mode()\n",
    "        x.loc['thal'] = mode2[0]  \n",
    "    return x\n",
    "cleveland = cleveland.apply(f, axis = 1)\n",
    "cleveland['num'] = cleveland['num'].astype('int64')"
   ]
  },
  {
   "cell_type": "markdown",
   "id": "f9a6df35",
   "metadata": {},
   "source": [
    "## Create new columns"
   ]
  },
  {
   "cell_type": "markdown",
   "id": "85dc78fc",
   "metadata": {},
   "source": [
    "#### Create new column and value_counts()\n",
    "apply()函数会把有些数据type变掉，所以要加一行cleveland['num'] = cleveland['num'].astype('int64')把数据type变回去"
   ]
  },
  {
   "cell_type": "markdown",
   "id": "2d5f859d",
   "metadata": {},
   "source": [
    "#### count how many observations of each type"
   ]
  },
  {
   "cell_type": "code",
   "execution_count": 40,
   "id": "1c0feff6",
   "metadata": {},
   "outputs": [
    {
     "data": {
      "text/plain": [
       "asymptomatic        144\n",
       "non-anginal pain     86\n",
       "atypical angina      50\n",
       "typical angina       23\n",
       "Name: cp, dtype: int64"
      ]
     },
     "execution_count": 40,
     "metadata": {},
     "output_type": "execute_result"
    }
   ],
   "source": [
    "# def f(x):\n",
    "#     if x['cp']==1.0 :\n",
    "#         x.loc['cp'] = 'typical angina'\n",
    "#     if x['cp']==2.0 :\n",
    "#         x.loc['cp'] = 'atypical angina'\n",
    "#     if x['cp']==3.0 :\n",
    "#         x.loc['cp'] = 'non-anginal pain'\n",
    "#     if x['cp']==4.0 :\n",
    "#         x.loc['cp'] = 'asymptomatic'\n",
    "#     return x\n",
    "\n",
    "# cleveland = cleveland.apply(f, axis = 1)\n",
    "\n",
    "def f(x):\n",
    "    if x==1.0 :\n",
    "        #print(x)\n",
    "        x = 'typical angina'\n",
    "    if x==2.0 :\n",
    "        #print(x)\n",
    "        x = 'atypical angina'\n",
    "    if x==3.0 :\n",
    "        #print(x)\n",
    "        x = 'non-anginal pain'\n",
    "    if x==4.0 :\n",
    "        #print(x)\n",
    "        x = 'asymptomatic'\n",
    "    return x\n",
    "\n",
    "cleveland['cp'] = cleveland['cp'].apply(f)\n",
    "\n",
    "cleveland['num'] = cleveland['num'].astype('int64')\n",
    "counts = cleveland['cp'].value_counts()\n",
    "counts"
   ]
  },
  {
   "cell_type": "code",
   "execution_count": 42,
   "id": "610d948b",
   "metadata": {},
   "outputs": [],
   "source": [
    "def f(x):\n",
    "    if x['slope']==1.0 : #upsloping\n",
    "        if x['thalach'] >=160.0:\n",
    "            x['thalach_level'] = 'high'\n",
    "        else:\n",
    "            x['thalach_level'] = 'low'\n",
    "    if x['slope']==2.0 : #flat\n",
    "        if x['thalach'] >=140.0:\n",
    "            x['thalach_level'] = 'high'\n",
    "        else:\n",
    "            x['thalach_level'] = 'low'\n",
    "        \n",
    "    if x['slope']==3.0 : #downsloping\n",
    "        if x['thalach'] >=145.0:\n",
    "            x['thalach_level'] = 'high'\n",
    "        else:\n",
    "            x['thalach_level'] = 'low'\n",
    "    return x\n",
    "\n",
    "cleveland = cleveland.apply(f, axis = 1)\n",
    "cleveland['num'] = cleveland['num'].astype('int64')"
   ]
  },
  {
   "cell_type": "code",
   "execution_count": 48,
   "id": "fa181b07",
   "metadata": {},
   "outputs": [
    {
     "data": {
      "text/plain": [
       "age         float64\n",
       "sex         float64\n",
       "cp          float64\n",
       "trestbps    float64\n",
       "chol        float64\n",
       "fbs         float64\n",
       "restecg     float64\n",
       "thalach     float64\n",
       "exang       float64\n",
       "oldpeak     float64\n",
       "slope       float64\n",
       "ca          float64\n",
       "thal        float64\n",
       "num           int64\n",
       "risk          int64\n",
       "dtype: object"
      ]
     },
     "execution_count": 48,
     "metadata": {},
     "output_type": "execute_result"
    }
   ],
   "source": [
    "import pandas as pd\n",
    "cleveland = pd.read_csv('processed.cleveland.data',\n",
    "                        dtype = {11: 'float64', 12: 'float64'}, \n",
    "                        na_values = {'?'}, \n",
    "                        names=['age', 'sex', 'cp', 'trestbps', 'chol', 'fbs', 'restecg', 'thalach', \n",
    "                               'exang', 'oldpeak', 'slope', 'ca', 'thal', 'num'])\n",
    "def f(x):\n",
    "    if x['age']<=50 : #upsloping\n",
    "        if x['trestbps'] < 120:\n",
    "            x['risk'] = 0\n",
    "        elif x['trestbps'] < 140:\n",
    "            x['risk'] = 1\n",
    "        else:\n",
    "            x['risk'] = 2\n",
    "    elif x['age']<= 60 : #flat\n",
    "        if x['trestbps'] < 130:\n",
    "            x['risk'] = 0\n",
    "        elif x['trestbps'] < 150:\n",
    "            x['risk'] = 1\n",
    "        else:\n",
    "            x['risk'] = 2\n",
    "    else: #flat\n",
    "        if x['trestbps'] < 140:\n",
    "            x['risk'] = 0\n",
    "        elif x['trestbps'] < 150:\n",
    "            x['risk'] = 1\n",
    "        else:\n",
    "            x['risk'] = 2\n",
    "    return x\n",
    "\n",
    "cleveland = cleveland.apply(f, axis = 1)\n",
    "cleveland['num'] = cleveland['num'].astype('int64')\n",
    "cleveland['risk'] = cleveland['risk'].astype('int64')\n",
    "cleveland.dtypes"
   ]
  },
  {
   "cell_type": "markdown",
   "id": "1929830c",
   "metadata": {},
   "source": [
    "## Combining Datasets: pd.concat([a,b,c,d], ignore_index=True)"
   ]
  },
  {
   "cell_type": "markdown",
   "id": "4b94b4fe",
   "metadata": {},
   "source": [
    "#### Combine all these 4 DataFrames into a single DataFrame with \n",
    "### updated index and a new column called 'location' \n",
    "#### with the info on where the patient's data was collected"
   ]
  },
  {
   "cell_type": "code",
   "execution_count": 51,
   "id": "52d384f5",
   "metadata": {},
   "outputs": [],
   "source": [
    "c = cleveland.copy()\n",
    "c[\"location\"] = \"cleveland\"\n",
    "h = hungarian.copy()\n",
    "h[\"location\"] = \"hungarian\"\n",
    "s = switzerland.copy()\n",
    "s[\"location\"] = \"switzerland\"\n",
    "v = va.copy()\n",
    "v[\"location\"] = \"va\"\n",
    "frames = [c, h, s, v]\n",
    "heart_disease = pd.concat(frames,ignore_index=True)"
   ]
  },
  {
   "cell_type": "markdown",
   "id": "ea2c4953",
   "metadata": {},
   "source": [
    "#### Perform inner join using the shared keys."
   ]
  },
  {
   "cell_type": "code",
   "execution_count": 56,
   "id": "825e1f75",
   "metadata": {},
   "outputs": [],
   "source": [
    "green = pd.read_csv('green-int-ramen.csv')\n",
    "green_ramen  = pd.merge(green,ramen, \n",
    "                        how='inner',\n",
    "                        left_on=['brand','name','packaging','from'],\n",
    "                        right_on=['Brand','Variety','Style','Country'])\n",
    "green_ramen = green_ramen[['brand', 'name', 'packaging', 'from', 'sales', 'Stars', 'Top Ten']]"
   ]
  },
  {
   "cell_type": "markdown",
   "id": "cec524e8",
   "metadata": {},
   "source": [
    "## Filtering Using Hierarchical Indexing. \n",
    "#### Use groupby(,as_index=False) to avoid.\n",
    "#### idx = pd.IndexSlice  ||  fbs_false = sex_fbs_exang.loc[idx[:, 0, :], :]\n",
    "#### unstack() 可以 转化 series -> dataframe, or 分层dataframe"
   ]
  },
  {
   "cell_type": "markdown",
   "id": "119bf0e2",
   "metadata": {},
   "source": [
    "#### 纯series的操作"
   ]
  },
  {
   "cell_type": "code",
   "execution_count": 73,
   "id": "b8d96ce4",
   "metadata": {},
   "outputs": [],
   "source": [
    "ramen = pd.read_csv('clean-ramen.csv')\n",
    "brand_style_country_avg = ramen.groupby(['Brand', 'Style', 'Country'])['Stars'].mean()\n",
    "vietnam_ramen = brand_style_country_avg[:,:,'Vietnam']\n",
    "nissin_usa_ramen = brand_style_country_avg['Nissin'][:,'USA']"
   ]
  },
  {
   "cell_type": "code",
   "execution_count": 74,
   "id": "e58bc05d",
   "metadata": {},
   "outputs": [
    {
     "data": {
      "text/plain": [
       "Style\n",
       "Bowl    3.250000\n",
       "Cup     3.389286\n",
       "Pack    3.750000\n",
       "Tray    3.600000\n",
       "Name: Stars, dtype: float64"
      ]
     },
     "execution_count": 74,
     "metadata": {},
     "output_type": "execute_result"
    }
   ],
   "source": [
    "nissin_usa_ramen"
   ]
  },
  {
   "cell_type": "code",
   "execution_count": 69,
   "id": "d4363ddf",
   "metadata": {},
   "outputs": [
    {
     "data": {
      "text/plain": [
       "Brand     Style\n",
       "A-One     Cup      2.750000\n",
       "Acecook   Pack     4.000000\n",
       "Binh Tay  Pack     3.416667\n",
       "Name: Stars, dtype: float64"
      ]
     },
     "execution_count": 69,
     "metadata": {},
     "output_type": "execute_result"
    }
   ],
   "source": [
    "vietnam_ramen.head(3)"
   ]
  },
  {
   "cell_type": "markdown",
   "id": "cdfeeb5c",
   "metadata": {},
   "source": [
    "#### 纯dataframe的操作, unstack()的意义"
   ]
  },
  {
   "cell_type": "code",
   "execution_count": 129,
   "id": "bc42b273",
   "metadata": {},
   "outputs": [],
   "source": [
    "sex_fbs_exang = cleveland.groupby(['sex', 'fbs', 'exang'])[['trestbps', 'chol']].mean()\n",
    "idx = pd.IndexSlice\n",
    "fbs_false = sex_fbs_exang.loc[idx[:, 0, :], :]\n",
    "fbs_no_exang = sex_fbs_exang.unstack().loc[idx[:, 1], idx[:, 0]]"
   ]
  },
  {
   "cell_type": "code",
   "execution_count": 133,
   "id": "2142f6dd",
   "metadata": {},
   "outputs": [
    {
     "data": {
      "text/html": [
       "<div>\n",
       "<style scoped>\n",
       "    .dataframe tbody tr th:only-of-type {\n",
       "        vertical-align: middle;\n",
       "    }\n",
       "\n",
       "    .dataframe tbody tr th {\n",
       "        vertical-align: top;\n",
       "    }\n",
       "\n",
       "    .dataframe thead tr th {\n",
       "        text-align: left;\n",
       "    }\n",
       "\n",
       "    .dataframe thead tr:last-of-type th {\n",
       "        text-align: right;\n",
       "    }\n",
       "</style>\n",
       "<table border=\"1\" class=\"dataframe\">\n",
       "  <thead>\n",
       "    <tr>\n",
       "      <th></th>\n",
       "      <th></th>\n",
       "      <th>trestbps</th>\n",
       "      <th>chol</th>\n",
       "    </tr>\n",
       "    <tr>\n",
       "      <th></th>\n",
       "      <th>exang</th>\n",
       "      <th>0.0</th>\n",
       "      <th>0.0</th>\n",
       "    </tr>\n",
       "    <tr>\n",
       "      <th>sex</th>\n",
       "      <th>fbs</th>\n",
       "      <th></th>\n",
       "      <th></th>\n",
       "    </tr>\n",
       "  </thead>\n",
       "  <tbody>\n",
       "    <tr>\n",
       "      <th>0.0</th>\n",
       "      <th>1.0</th>\n",
       "      <td>132.714286</td>\n",
       "      <td>294.285714</td>\n",
       "    </tr>\n",
       "    <tr>\n",
       "      <th>1.0</th>\n",
       "      <th>1.0</th>\n",
       "      <td>137.500000</td>\n",
       "      <td>225.045455</td>\n",
       "    </tr>\n",
       "  </tbody>\n",
       "</table>\n",
       "</div>"
      ],
      "text/plain": [
       "           trestbps        chol\n",
       "exang           0.0         0.0\n",
       "sex fbs                        \n",
       "0.0 1.0  132.714286  294.285714\n",
       "1.0 1.0  137.500000  225.045455"
      ]
     },
     "execution_count": 133,
     "metadata": {},
     "output_type": "execute_result"
    }
   ],
   "source": [
    "sex_fbs_exang.unstack().loc[idx[:, 1], idx[:,0]]"
   ]
  },
  {
   "cell_type": "code",
   "execution_count": 136,
   "id": "45c94d53",
   "metadata": {},
   "outputs": [
    {
     "data": {
      "text/html": [
       "<div>\n",
       "<style scoped>\n",
       "    .dataframe tbody tr th:only-of-type {\n",
       "        vertical-align: middle;\n",
       "    }\n",
       "\n",
       "    .dataframe tbody tr th {\n",
       "        vertical-align: top;\n",
       "    }\n",
       "\n",
       "    .dataframe thead th {\n",
       "        text-align: right;\n",
       "    }\n",
       "</style>\n",
       "<table border=\"1\" class=\"dataframe\">\n",
       "  <thead>\n",
       "    <tr style=\"text-align: right;\">\n",
       "      <th></th>\n",
       "      <th></th>\n",
       "      <th></th>\n",
       "      <th>trestbps</th>\n",
       "      <th>chol</th>\n",
       "    </tr>\n",
       "    <tr>\n",
       "      <th>sex</th>\n",
       "      <th>fbs</th>\n",
       "      <th>exang</th>\n",
       "      <th></th>\n",
       "      <th></th>\n",
       "    </tr>\n",
       "  </thead>\n",
       "  <tbody>\n",
       "    <tr>\n",
       "      <th>0.0</th>\n",
       "      <th>1.0</th>\n",
       "      <th>0.0</th>\n",
       "      <td>132.714286</td>\n",
       "      <td>294.285714</td>\n",
       "    </tr>\n",
       "    <tr>\n",
       "      <th>1.0</th>\n",
       "      <th>1.0</th>\n",
       "      <th>0.0</th>\n",
       "      <td>137.500000</td>\n",
       "      <td>225.045455</td>\n",
       "    </tr>\n",
       "  </tbody>\n",
       "</table>\n",
       "</div>"
      ],
      "text/plain": [
       "                 trestbps        chol\n",
       "sex fbs exang                        \n",
       "0.0 1.0 0.0    132.714286  294.285714\n",
       "1.0 1.0 0.0    137.500000  225.045455"
      ]
     },
     "execution_count": 136,
     "metadata": {},
     "output_type": "execute_result"
    }
   ],
   "source": [
    "fbs_false = sex_fbs_exang.loc[idx[:, 1, 0], :]\n",
    "fbs_false"
   ]
  },
  {
   "cell_type": "markdown",
   "id": "15fee0b3",
   "metadata": {},
   "source": [
    "#### unstack() 可以 转化 series -> dataframe, or 分层dataframe"
   ]
  },
  {
   "cell_type": "code",
   "execution_count": 148,
   "id": "9a974aad",
   "metadata": {},
   "outputs": [
    {
     "data": {
      "text/plain": [
       "sex  cp \n",
       "0.0  1.0    0.000000\n",
       "     2.0    0.111111\n",
       "     3.0    0.028571\n",
       "     4.0    0.550000\n",
       "1.0  1.0    0.368421\n",
       "     2.0    0.218750\n",
       "     3.0    0.333333\n",
       "     4.0    0.798077\n",
       "Name: num, dtype: float64"
      ]
     },
     "execution_count": 148,
     "metadata": {},
     "output_type": "execute_result"
    }
   ],
   "source": [
    "cleveland.loc[(cleveland['num'] != 0), 'num'] = 1\n",
    "sex_cp_percent = cleveland.groupby(['sex', 'cp'])['num'].mean()\n",
    "sex_cp_percent"
   ]
  },
  {
   "cell_type": "code",
   "execution_count": 149,
   "id": "fad75cc2",
   "metadata": {},
   "outputs": [
    {
     "data": {
      "text/html": [
       "<div>\n",
       "<style scoped>\n",
       "    .dataframe tbody tr th:only-of-type {\n",
       "        vertical-align: middle;\n",
       "    }\n",
       "\n",
       "    .dataframe tbody tr th {\n",
       "        vertical-align: top;\n",
       "    }\n",
       "\n",
       "    .dataframe thead th {\n",
       "        text-align: right;\n",
       "    }\n",
       "</style>\n",
       "<table border=\"1\" class=\"dataframe\">\n",
       "  <thead>\n",
       "    <tr style=\"text-align: right;\">\n",
       "      <th>cp</th>\n",
       "      <th>1.0</th>\n",
       "      <th>2.0</th>\n",
       "      <th>3.0</th>\n",
       "      <th>4.0</th>\n",
       "    </tr>\n",
       "    <tr>\n",
       "      <th>sex</th>\n",
       "      <th></th>\n",
       "      <th></th>\n",
       "      <th></th>\n",
       "      <th></th>\n",
       "    </tr>\n",
       "  </thead>\n",
       "  <tbody>\n",
       "    <tr>\n",
       "      <th>0.0</th>\n",
       "      <td>0.000000</td>\n",
       "      <td>0.111111</td>\n",
       "      <td>0.028571</td>\n",
       "      <td>0.550000</td>\n",
       "    </tr>\n",
       "    <tr>\n",
       "      <th>1.0</th>\n",
       "      <td>0.368421</td>\n",
       "      <td>0.218750</td>\n",
       "      <td>0.333333</td>\n",
       "      <td>0.798077</td>\n",
       "    </tr>\n",
       "  </tbody>\n",
       "</table>\n",
       "</div>"
      ],
      "text/plain": [
       "cp        1.0       2.0       3.0       4.0\n",
       "sex                                        \n",
       "0.0  0.000000  0.111111  0.028571  0.550000\n",
       "1.0  0.368421  0.218750  0.333333  0.798077"
      ]
     },
     "execution_count": 149,
     "metadata": {},
     "output_type": "execute_result"
    }
   ],
   "source": [
    "sex_cp_percent.unstack()"
   ]
  },
  {
   "cell_type": "markdown",
   "id": "4f5c1218",
   "metadata": {},
   "source": [
    "## Filtering"
   ]
  },
  {
   "cell_type": "code",
   "execution_count": 164,
   "id": "362af18b",
   "metadata": {},
   "outputs": [],
   "source": [
    "import pandas as pd\n",
    "\n",
    "insurance = pd.read_csv('insurance.csv')\n",
    "result = insurance[(insurance['bmi'] < 24) & (insurance['region'] == 'northwest')]"
   ]
  },
  {
   "cell_type": "code",
   "execution_count": 165,
   "id": "abff9774",
   "metadata": {},
   "outputs": [],
   "source": [
    "import pandas as pd\n",
    "\n",
    "insurance = pd.read_csv('insurance.csv')\n",
    "result = insurance[(insurance['bmi'] < 24) | (insurance['region'] == 'northwest')]"
   ]
  },
  {
   "cell_type": "code",
   "execution_count": 166,
   "id": "2d36de73",
   "metadata": {},
   "outputs": [],
   "source": [
    "import pandas as pd\n",
    "\n",
    "ramen = pd.read_csv('clean-ramen.csv')\n",
    "result = ramen[(ramen['Stars'] >= 4) & ((ramen['Country'] == 'Vietnam') | (ramen['Country'] == 'Cambodia'))]"
   ]
  },
  {
   "cell_type": "code",
   "execution_count": 167,
   "id": "ec0211a0",
   "metadata": {},
   "outputs": [],
   "source": [
    "import pandas as pd\n",
    "\n",
    "ramen = pd.read_csv('clean-ramen.csv')\n",
    "result = ramen[((ramen['Stars'] >= 4) & (ramen['Stars'] <= 5) ) & (ramen['Country'] == 'South Korea')]"
   ]
  },
  {
   "cell_type": "markdown",
   "id": "689c9ccb",
   "metadata": {},
   "source": [
    "## Sort"
   ]
  },
  {
   "cell_type": "code",
   "execution_count": 177,
   "id": "3822972d",
   "metadata": {},
   "outputs": [
    {
     "data": {
      "text/html": [
       "<div>\n",
       "<style scoped>\n",
       "    .dataframe tbody tr th:only-of-type {\n",
       "        vertical-align: middle;\n",
       "    }\n",
       "\n",
       "    .dataframe tbody tr th {\n",
       "        vertical-align: top;\n",
       "    }\n",
       "\n",
       "    .dataframe thead th {\n",
       "        text-align: right;\n",
       "    }\n",
       "</style>\n",
       "<table border=\"1\" class=\"dataframe\">\n",
       "  <thead>\n",
       "    <tr style=\"text-align: right;\">\n",
       "      <th></th>\n",
       "      <th>Brand</th>\n",
       "      <th>Variety</th>\n",
       "      <th>Style</th>\n",
       "      <th>Country</th>\n",
       "      <th>Stars</th>\n",
       "    </tr>\n",
       "  </thead>\n",
       "  <tbody>\n",
       "    <tr>\n",
       "      <th>0</th>\n",
       "      <td>New Touch</td>\n",
       "      <td>T's Restaurant Tantanmen</td>\n",
       "      <td>Cup</td>\n",
       "      <td>Japan</td>\n",
       "      <td>3.75</td>\n",
       "    </tr>\n",
       "    <tr>\n",
       "      <th>1</th>\n",
       "      <td>Just Way</td>\n",
       "      <td>Noodles Spicy Hot Sesame Spicy Hot Sesame Guan...</td>\n",
       "      <td>Pack</td>\n",
       "      <td>Taiwan</td>\n",
       "      <td>1.00</td>\n",
       "    </tr>\n",
       "    <tr>\n",
       "      <th>2</th>\n",
       "      <td>Nissin</td>\n",
       "      <td>Cup Noodles Chicken Vegetable</td>\n",
       "      <td>Cup</td>\n",
       "      <td>USA</td>\n",
       "      <td>2.25</td>\n",
       "    </tr>\n",
       "    <tr>\n",
       "      <th>3</th>\n",
       "      <td>Wei Lih</td>\n",
       "      <td>GGE Ramen Snack Tomato Flavor</td>\n",
       "      <td>Pack</td>\n",
       "      <td>Taiwan</td>\n",
       "      <td>2.75</td>\n",
       "    </tr>\n",
       "    <tr>\n",
       "      <th>4</th>\n",
       "      <td>Ching's Secret</td>\n",
       "      <td>Singapore Curry</td>\n",
       "      <td>Pack</td>\n",
       "      <td>India</td>\n",
       "      <td>3.75</td>\n",
       "    </tr>\n",
       "    <tr>\n",
       "      <th>...</th>\n",
       "      <td>...</td>\n",
       "      <td>...</td>\n",
       "      <td>...</td>\n",
       "      <td>...</td>\n",
       "      <td>...</td>\n",
       "    </tr>\n",
       "    <tr>\n",
       "      <th>2570</th>\n",
       "      <td>Vifon</td>\n",
       "      <td>Hu Tiu Nam Vang [\"Phnom Penh\" style] Asian Sty...</td>\n",
       "      <td>Bowl</td>\n",
       "      <td>Vietnam</td>\n",
       "      <td>3.50</td>\n",
       "    </tr>\n",
       "    <tr>\n",
       "      <th>2571</th>\n",
       "      <td>Wai Wai</td>\n",
       "      <td>Oriental Style Instant Noodles</td>\n",
       "      <td>Pack</td>\n",
       "      <td>Thailand</td>\n",
       "      <td>1.00</td>\n",
       "    </tr>\n",
       "    <tr>\n",
       "      <th>2572</th>\n",
       "      <td>Wai Wai</td>\n",
       "      <td>Tom Yum Shrimp</td>\n",
       "      <td>Pack</td>\n",
       "      <td>Thailand</td>\n",
       "      <td>2.00</td>\n",
       "    </tr>\n",
       "    <tr>\n",
       "      <th>2573</th>\n",
       "      <td>Wai Wai</td>\n",
       "      <td>Tom Yum Chili Flavor</td>\n",
       "      <td>Pack</td>\n",
       "      <td>Thailand</td>\n",
       "      <td>2.00</td>\n",
       "    </tr>\n",
       "    <tr>\n",
       "      <th>2574</th>\n",
       "      <td>Westbrae</td>\n",
       "      <td>Miso Ramen</td>\n",
       "      <td>Pack</td>\n",
       "      <td>USA</td>\n",
       "      <td>0.50</td>\n",
       "    </tr>\n",
       "  </tbody>\n",
       "</table>\n",
       "<p>2575 rows × 5 columns</p>\n",
       "</div>"
      ],
      "text/plain": [
       "               Brand                                            Variety Style  \\\n",
       "0          New Touch                          T's Restaurant Tantanmen    Cup   \n",
       "1           Just Way  Noodles Spicy Hot Sesame Spicy Hot Sesame Guan...  Pack   \n",
       "2             Nissin                      Cup Noodles Chicken Vegetable   Cup   \n",
       "3            Wei Lih                      GGE Ramen Snack Tomato Flavor  Pack   \n",
       "4     Ching's Secret                                    Singapore Curry  Pack   \n",
       "...              ...                                                ...   ...   \n",
       "2570           Vifon  Hu Tiu Nam Vang [\"Phnom Penh\" style] Asian Sty...  Bowl   \n",
       "2571         Wai Wai                     Oriental Style Instant Noodles  Pack   \n",
       "2572         Wai Wai                                     Tom Yum Shrimp  Pack   \n",
       "2573         Wai Wai                               Tom Yum Chili Flavor  Pack   \n",
       "2574        Westbrae                                         Miso Ramen  Pack   \n",
       "\n",
       "       Country  Stars  \n",
       "0        Japan   3.75  \n",
       "1       Taiwan   1.00  \n",
       "2          USA   2.25  \n",
       "3       Taiwan   2.75  \n",
       "4        India   3.75  \n",
       "...        ...    ...  \n",
       "2570   Vietnam   3.50  \n",
       "2571  Thailand   1.00  \n",
       "2572  Thailand   2.00  \n",
       "2573  Thailand   2.00  \n",
       "2574       USA   0.50  \n",
       "\n",
       "[2575 rows x 5 columns]"
      ]
     },
     "execution_count": 177,
     "metadata": {},
     "output_type": "execute_result"
    }
   ],
   "source": [
    "ramen = pd.read_csv('clean-ramen.csv')\n",
    "best = ramen[ramen['Country'] == 'USA'].sort_values(by=['Stars','Brand'], ascending=[False,True]).head(10)\n",
    "ramen"
   ]
  },
  {
   "cell_type": "code",
   "execution_count": null,
   "id": "d95c51ed",
   "metadata": {},
   "outputs": [],
   "source": []
  },
  {
   "cell_type": "code",
   "execution_count": null,
   "id": "f577380a",
   "metadata": {},
   "outputs": [],
   "source": []
  },
  {
   "cell_type": "code",
   "execution_count": null,
   "id": "731d0b7a",
   "metadata": {},
   "outputs": [],
   "source": []
  },
  {
   "cell_type": "code",
   "execution_count": null,
   "id": "eaa8bcd5",
   "metadata": {},
   "outputs": [],
   "source": []
  }
 ],
 "metadata": {
  "kernelspec": {
   "display_name": "Python 3",
   "language": "python",
   "name": "python3"
  },
  "language_info": {
   "codemirror_mode": {
    "name": "ipython",
    "version": 3
   },
   "file_extension": ".py",
   "mimetype": "text/x-python",
   "name": "python",
   "nbconvert_exporter": "python",
   "pygments_lexer": "ipython3",
   "version": "3.8.8"
  }
 },
 "nbformat": 4,
 "nbformat_minor": 5
}
